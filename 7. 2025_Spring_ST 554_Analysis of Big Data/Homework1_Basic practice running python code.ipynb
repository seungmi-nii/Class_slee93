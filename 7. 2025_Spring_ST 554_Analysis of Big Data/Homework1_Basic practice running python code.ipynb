{
  "nbformat": 4,
  "nbformat_minor": 0,
  "metadata": {
    "colab": {
      "provenance": []
    },
    "kernelspec": {
      "name": "python3",
      "display_name": "Python 3"
    },
    "language_info": {
      "name": "python"
    }
  },
  "cells": [
    {
      "cell_type": "markdown",
      "source": [
        "# About a Common `python` Module!"
      ],
      "metadata": {
        "id": "CISwiv5YFNN_"
      }
    },
    {
      "cell_type": "markdown",
      "source": [
        "## What is `NumPy`?"
      ],
      "metadata": {
        "id": "yA0rFGD2FNTu"
      }
    },
    {
      "cell_type": "markdown",
      "source": [
        "`NumPy` is the fundamental package for scientific computing in Python. It is a Python library that provides a multidimensional array object, various derived objects (such as masked arrays and matrices), and an assortment of routines for fast operations on arrays, including mathematical, logical, shape manipulation, sorting, selecting, I/O, discrete Fourier transforms, basic linear algebra, basic statistical operations, random simulation and much more.  \n",
        "\n",
        "At the core of the `NumPy` package, is the ndarray object. This encapsulates **n-dimensional arrays of homogeneous data types**, with many operations being performed in compiled code for performance. There are several important differences between `NumPy` arrays and the standard Python sequences:\n",
        "\n",
        "* `NumPy` arrays have a fixed size at creation, unlike Python lists (which can grow dynamically). Changing the size of an ndarray will create a new array and delete the original.\n",
        "* The elements in a `NumPy` array are all required to be of the same data type, and thus will be the same size in memory. The exception: one can have arrays of (Python, including `NumPy`) objects, thereby allowing for arrays of different sized elements.\n",
        "* `NumPy` arrays facilitate advanced mathematical and other types of operations on large numbers of data. Typically, such operations are executed more efficiently and with less code than is possible using Python’s built-in sequences.\n",
        "* A growing plethora of scientific and mathematical Python-based packages are using `NumPy` arrays; though these typically support Python-sequence input, they convert such input to `NumPy` arrays prior to processing, and they often output `NumPy` arrays. In other words, in order to efficiently use much (perhaps even most) of today’s scientific/mathematical Python-based software, just knowing how to use Python’s built-in sequence types is insufficient - one also needs to know how to use `NumPy` arrays.  \n",
        "\n",
        "The points about sequence size and speed are particularly important in scientific computing. As a simple example, consider the case of multiplying each element in a 1-D sequence with the corresponding element in another sequence of the same length. If the data are stored in two Python lists, `a` and `b`, we could iterate over each element:"
      ],
      "metadata": {
        "id": "2TYBm6e-FNZH"
      }
    },
    {
      "cell_type": "code",
      "source": [
        "a = b = [x for x in range(0,10)]\n",
        "c = []\n",
        "for i in range(len(a)):\n",
        "    c.append(a[i]*b[i])\n",
        "print(c)"
      ],
      "metadata": {
        "colab": {
          "base_uri": "https://localhost:8080/"
        },
        "id": "AROzh6-tIwk1",
        "outputId": "7df6324b-3de8-4949-9c3e-473b4ed76a7e"
      },
      "execution_count": null,
      "outputs": [
        {
          "output_type": "stream",
          "name": "stdout",
          "text": [
            "[0, 1, 4, 9, 16, 25, 36, 49, 64, 81]\n"
          ]
        }
      ]
    },
    {
      "cell_type": "markdown",
      "source": [
        "This produces the correct answer, but if `a` and `b` each contain millions of numbers, we will pay the price for the inefficiencies of looping in Python. We could accomplish the same task much more quickly in C by writing (for clarity we neglect variable declarations and initializations, memory allocation, etc.)\n",
        "\n",
        "```\n",
        "for (i = 0; i < rows; i++): {\n",
        "  c[i] = a[i]*b[i];\n",
        "}\n",
        "```\n",
        "\n",
        "\n",
        "\n",
        "This saves all the overhead involved in interpreting the Python code and manipulating Python objects, but at the expense of the benefits gained from coding in Python. Furthermore, the coding work required increases with the dimensionality of our data. In the case of a 2-D array, for example, the C code (abridged as before) expands to\n",
        "\n",
        "```\n",
        "for (i = 0; i < rows; i++): {\n",
        "  for (j = 0; j < columns; j++): {\n",
        "    c[i][j] = a[i][j]*b[i][j];\n",
        "  }\n",
        "}\n",
        "```\n",
        "\n",
        "`NumPy` gives us the best of both worlds: element-by-element operations are the “default mode” when an ndarray is involved, but the element-by-element operation is speedily executed by pre-compiled C code."
      ],
      "metadata": {
        "id": "ZHDL8eqIJugR"
      }
    },
    {
      "cell_type": "markdown",
      "source": [
        "## Visualizing an Array"
      ],
      "metadata": {
        "id": "IpvzhQbcLiy7"
      }
    },
    {
      "cell_type": "markdown",
      "source": [
        "We can visualize arrays as vectors, matrices, and their extension to higher dimensions. The picture below from https://predictivehacks.com/tips-about-numpy-arrays/ shows this visually."
      ],
      "metadata": {
        "id": "GlobkIpALmS1"
      }
    },
    {
      "cell_type": "markdown",
      "source": [
        "![](https://drive.google.com/uc?id=1XK4DneBIQEUIL_AU1p6U8aTn8eti6yKw)\n"
      ],
      "metadata": {
        "id": "2TidudeHMt6r"
      }
    },
    {
      "cell_type": "code",
      "source": [
        "listy = [x for x in range(1,21)]\n",
        "listy"
      ],
      "metadata": {
        "colab": {
          "base_uri": "https://localhost:8080/"
        },
        "id": "wMT0ZBY5Jxjs",
        "outputId": "cac9d07a-d727-4c33-9d5f-ba487e74d7ce"
      },
      "execution_count": null,
      "outputs": [
        {
          "output_type": "execute_result",
          "data": {
            "text/plain": [
              "[1, 2, 3, 4, 5, 6, 7, 8, 9, 10, 11, 12, 13, 14, 15, 16, 17, 18, 19, 20]"
            ]
          },
          "metadata": {},
          "execution_count": 11
        }
      ]
    },
    {
      "cell_type": "markdown",
      "source": [
        "To remove the number 10, the `.pop()` is used to remove the element at index 9 from the list."
      ],
      "metadata": {
        "id": "1Enz2VnvQnjo"
      }
    },
    {
      "cell_type": "code",
      "source": [
        "listy.pop(9)\n",
        "listy"
      ],
      "metadata": {
        "colab": {
          "base_uri": "https://localhost:8080/"
        },
        "id": "3sPJ84lJQA9k",
        "outputId": "279df310-a3cc-44c1-826f-476c1d78bb5b"
      },
      "execution_count": null,
      "outputs": [
        {
          "output_type": "execute_result",
          "data": {
            "text/plain": [
              "[1, 2, 3, 4, 5, 6, 7, 8, 9, 11, 12, 13, 14, 15, 16, 17, 18, 19, 20]"
            ]
          },
          "metadata": {},
          "execution_count": 12
        }
      ]
    },
    {
      "cell_type": "markdown",
      "source": [
        "The string \"threeve\" was converted into a list and added to the existing **listy**."
      ],
      "metadata": {
        "id": "etcYVRyMQn8e"
      }
    },
    {
      "cell_type": "code",
      "source": [
        "listy = [\"threeve\"] + listy\n",
        "listy"
      ],
      "metadata": {
        "colab": {
          "base_uri": "https://localhost:8080/"
        },
        "id": "YnggiDAUQBC8",
        "outputId": "47613b88-62ea-42dc-8af0-49704fc1c4b1"
      },
      "execution_count": null,
      "outputs": [
        {
          "output_type": "execute_result",
          "data": {
            "text/plain": [
              "['threeve', 1, 2, 3, 4, 5, 6, 7, 8, 9, 11, 12, 13, 14, 15, 16, 17, 18, 19, 20]"
            ]
          },
          "metadata": {},
          "execution_count": 13
        }
      ]
    },
    {
      "cell_type": "markdown",
      "source": [
        "Using the augmented assignment `* 3` to repeat the modified **listy** three times.  "
      ],
      "metadata": {
        "id": "RzsTb5PEQoVV"
      }
    },
    {
      "cell_type": "code",
      "source": [
        "listy = listy * 3\n",
        "listy"
      ],
      "metadata": {
        "colab": {
          "base_uri": "https://localhost:8080/"
        },
        "id": "WTccAN_dQBHR",
        "outputId": "f26a2a92-9800-449c-82e4-6f922d2b49c1"
      },
      "execution_count": null,
      "outputs": [
        {
          "output_type": "execute_result",
          "data": {
            "text/plain": [
              "['threeve',\n",
              " 1,\n",
              " 2,\n",
              " 3,\n",
              " 4,\n",
              " 5,\n",
              " 6,\n",
              " 7,\n",
              " 8,\n",
              " 9,\n",
              " 11,\n",
              " 12,\n",
              " 13,\n",
              " 14,\n",
              " 15,\n",
              " 16,\n",
              " 17,\n",
              " 18,\n",
              " 19,\n",
              " 20,\n",
              " 'threeve',\n",
              " 1,\n",
              " 2,\n",
              " 3,\n",
              " 4,\n",
              " 5,\n",
              " 6,\n",
              " 7,\n",
              " 8,\n",
              " 9,\n",
              " 11,\n",
              " 12,\n",
              " 13,\n",
              " 14,\n",
              " 15,\n",
              " 16,\n",
              " 17,\n",
              " 18,\n",
              " 19,\n",
              " 20,\n",
              " 'threeve',\n",
              " 1,\n",
              " 2,\n",
              " 3,\n",
              " 4,\n",
              " 5,\n",
              " 6,\n",
              " 7,\n",
              " 8,\n",
              " 9,\n",
              " 11,\n",
              " 12,\n",
              " 13,\n",
              " 14,\n",
              " 15,\n",
              " 16,\n",
              " 17,\n",
              " 18,\n",
              " 19,\n",
              " 20]"
            ]
          },
          "metadata": {},
          "execution_count": 14
        }
      ]
    }
  ]
}