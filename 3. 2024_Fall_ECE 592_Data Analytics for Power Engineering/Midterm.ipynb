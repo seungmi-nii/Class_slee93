{
  "cells": [
    {
      "cell_type": "markdown",
      "id": "fd75ffff",
      "metadata": {
        "id": "fd75ffff"
      },
      "source": [
        "# Midterm\n",
        "\n",
        "You need to edit this `.ipynb` file by replacing \"# Your code\", \"# Your answer\", etc., click \"Restart & Run All\" in Jupyter Notebook to generate your results, and download it as an `.html` file. Please submit your `UnityID.ipynb`, `UnityID.html`, and `UnityID.csv` (see Problem 3.2) files (instead of a `.zip` file) on Moodle.\n",
        "\n",
        "You can browse the Internet, but you cannot consult anyone in person or online, except posting questions on Moodle. For fairness of the exam, I will only answer questions on Moodle (within 24 hours), not through email."
      ]
    },
    {
      "cell_type": "code",
      "execution_count": 1,
      "id": "2ce2db61",
      "metadata": {
        "id": "2ce2db61"
      },
      "outputs": [],
      "source": [
        "import numpy as np\n",
        "import pandas as pd\n",
        "def mape(y, yhat):\n",
        "    return np.mean(np.absolute((y - yhat) / y))\n",
        "# Your can either include your imports here, or in the individual question."
      ]
    },
    {
      "cell_type": "markdown",
      "id": "804b6aae",
      "metadata": {
        "id": "804b6aae"
      },
      "source": [
        "## Problem 1\n",
        "\n",
        "You will carry out data analytics of the hourly price and load data of the PJM market in 2023.\n",
        "\n",
        "### Problem 1.1 (10 points)\n",
        "\n",
        "Import the data sets `data/p1/da_hrl_lmps.csv`, `data/p1/rt_hrl_lmps.csv`, and `data/p1/hrl_load_metered.csv`. Merge them into a single `pandas.DataFrame`, with the following variables: `datetime_beginning_ept` (beginning time of the hour, Eastern Prevailing Time), `total_lmp_da` (day-ahead price), `total_lmp_rt` (real-time price), and `mw` (load). The `DataFrame` should look like this (where the formatting including the number of significant digits may vary, depending on your software environment):\n",
        "\n",
        "|      | datetime_beginning_ept | total_lmp_da | total_lmp_rt | mw        |\n",
        "|------|------------------------|--------------|--------------|-----------|\n",
        "| 0    | 2023-01-01 00:00:00    | 24.381113    | 21.637942    | 73273.137 |\n",
        "| 1    | 2023-01-01 01:00:00    | 23.688542    | 20.632031    | 71490.829 |\n",
        "| ...  | ...                    | ...          | ...          | ...       |\n",
        "| 8758 | 2023-12-31 22:00:00    | 21.113880    | 19.934450    | 86658.273 |\n",
        "| 8759 | 2023-12-31 23:00:00    | 19.989300    | 18.390764    | 84423.402 |\n",
        "\n",
        "Print the rows for November 5, 2023. Why do you get more than 24 rows?"
      ]
    },
    {
      "cell_type": "code",
      "source": [
        "import warnings\n",
        "warnings.filterwarnings('ignore')\n",
        "\n",
        "da = pd.read_csv('/content/da_hrl_lmps.csv')\n",
        "rt = pd.read_csv('/content/rt_hrl_lmps.csv')\n",
        "load = pd.read_csv('/content/hrl_load_metered.csv')"
      ],
      "metadata": {
        "id": "tmLN36zHRJ6P"
      },
      "id": "tmLN36zHRJ6P",
      "execution_count": 2,
      "outputs": []
    },
    {
      "cell_type": "code",
      "execution_count": 3,
      "id": "e452753e",
      "metadata": {
        "colab": {
          "base_uri": "https://localhost:8080/"
        },
        "id": "e452753e",
        "outputId": "b30807ab-a7be-48ca-bdf4-c6c87d8f6c5e"
      },
      "outputs": [
        {
          "output_type": "stream",
          "name": "stdout",
          "text": [
            "     datetime_beginning_ept  total_lmp_da  total_lmp_rt         mw\n",
            "7415    2023-11-05 00:00:00     25.105975     19.125241  70204.152\n",
            "7416    2023-11-05 01:00:00     26.187898     15.681632  68552.610\n",
            "7417    2023-11-05 01:00:00     26.187898     15.681632  67695.244\n",
            "7418    2023-11-05 01:00:00     26.187898     19.480403  68552.610\n",
            "7419    2023-11-05 01:00:00     26.187898     19.480403  67695.244\n",
            "7420    2023-11-05 01:00:00     22.432705     15.681632  68552.610\n",
            "7421    2023-11-05 01:00:00     22.432705     15.681632  67695.244\n",
            "7422    2023-11-05 01:00:00     22.432705     19.480403  68552.610\n",
            "7423    2023-11-05 01:00:00     22.432705     19.480403  67695.244\n",
            "7424    2023-11-05 02:00:00     24.526802     20.871133  67571.534\n",
            "7425    2023-11-05 03:00:00     23.183336     21.456107  67675.162\n",
            "7426    2023-11-05 04:00:00     24.481890     22.875438  68597.760\n",
            "7427    2023-11-05 05:00:00     27.410307     23.753921  70615.089\n",
            "7428    2023-11-05 06:00:00     28.103539     34.180292  73483.160\n",
            "7429    2023-11-05 07:00:00     31.007097     29.191465  76023.739\n",
            "7430    2023-11-05 08:00:00     26.423468     20.008878  76748.715\n",
            "7431    2023-11-05 09:00:00     25.211057     19.498003  75778.143\n",
            "7432    2023-11-05 10:00:00     23.939828     18.132892  74059.817\n",
            "7433    2023-11-05 11:00:00     24.014831     17.427831  72777.110\n",
            "7434    2023-11-05 12:00:00     23.672159     20.492144  72230.013\n",
            "7435    2023-11-05 13:00:00     22.888145     20.588588  72284.297\n",
            "7436    2023-11-05 14:00:00     22.392463     22.359657  73035.912\n",
            "7437    2023-11-05 15:00:00     23.750157     24.978723  74572.163\n",
            "7438    2023-11-05 16:00:00     32.167213     29.981020  77406.724\n",
            "7439    2023-11-05 17:00:00     40.540252     49.008995  81378.218\n",
            "7440    2023-11-05 18:00:00     31.459383     25.966389  82569.273\n",
            "7441    2023-11-05 19:00:00     30.254970     25.881054  81483.306\n",
            "7442    2023-11-05 20:00:00     27.961122     18.379188  80327.326\n",
            "7443    2023-11-05 21:00:00     24.313931     17.127427  77742.694\n",
            "7444    2023-11-05 22:00:00     24.119471     17.363190  74655.257\n",
            "7445    2023-11-05 23:00:00     20.519914     14.552628  71946.600\n",
            "Number of rows: 31\n"
          ]
        }
      ],
      "source": [
        "# Your code\n",
        "import warnings\n",
        "warnings.filterwarnings('ignore')\n",
        "\n",
        "da = pd.read_csv('/content/da_hrl_lmps.csv')\n",
        "rt = pd.read_csv('/content/rt_hrl_lmps.csv')\n",
        "load = pd.read_csv('/content/hrl_load_metered.csv')\n",
        "\n",
        "\n",
        "da['datetime_beginning_ept'] = pd.to_datetime(da['datetime_beginning_ept'])\n",
        "rt['datetime_beginning_ept'] = pd.to_datetime(rt['datetime_beginning_ept'])\n",
        "load['datetime_beginning_ept'] = pd.to_datetime(load['datetime_beginning_ept'])\n",
        "\n",
        "da = da[['datetime_beginning_ept', 'total_lmp_da']]\n",
        "rt = rt[['datetime_beginning_ept', 'total_lmp_rt']]\n",
        "load = load[['datetime_beginning_ept', 'mw']]\n",
        "\n",
        "merged_df = pd.merge(da, rt, on='datetime_beginning_ept', how='inner')\n",
        "merged_df = pd.merge(merged_df, load, on='datetime_beginning_ept', how='inner')\n",
        "\n",
        "filtered_df = merged_df[merged_df['datetime_beginning_ept'].dt.date == pd.to_datetime('2023-11-05').date()]\n",
        "\n",
        "print(filtered_df)\n",
        "print(f\"Number of rows: {len(filtered_df)}\")"
      ]
    },
    {
      "cell_type": "markdown",
      "id": "6d4984f7-e771-4bb2-bdc0-102adb00aba2",
      "metadata": {
        "id": "6d4984f7-e771-4bb2-bdc0-102adb00aba2"
      },
      "source": [
        "\\# Your answer (Why do you get more than 24 rows?)  \n",
        "The reason why there are more than 24 rows for November 5, 2023, is due to the presence of duplicate time data, specifically at 1:00 AM."
      ]
    },
    {
      "cell_type": "markdown",
      "id": "5ae3231d",
      "metadata": {
        "id": "5ae3231d"
      },
      "source": [
        "### Problem 1.2 (5 points)\n",
        "\n",
        "Print the row with the highest day-ahead price, the row with the lowest day-ahead price, the row with the highest real-time price, the row with the lowest real-time price, the row with the highest load, and the row with the lowest load."
      ]
    },
    {
      "cell_type": "code",
      "execution_count": 4,
      "id": "787e4ccb",
      "metadata": {
        "colab": {
          "base_uri": "https://localhost:8080/"
        },
        "id": "787e4ccb",
        "outputId": "ca34f5df-5927-4886-944a-dcdab315f810"
      },
      "outputs": [
        {
          "output_type": "stream",
          "name": "stdout",
          "text": [
            "Minimum value in 'total_lmp_da': 9.009513\n",
            "Maximum value in 'total_lmp_da': 334.131791\n",
            "Minimum value in 'total_lmp_rt': -4.76822\n",
            "Maximum value in 'total_lmp_rt': 651.591946\n",
            "Minimum value in 'mw': 59756.845\n",
            "Maximum value in 'mw': 147178.133\n"
          ]
        }
      ],
      "source": [
        "# Your code\n",
        "min_da = merged_df['total_lmp_da'].min()\n",
        "max_da = merged_df['total_lmp_da'].max()\n",
        "min_rt = merged_df['total_lmp_rt'].min()\n",
        "max_rt = merged_df['total_lmp_rt'].max()\n",
        "min_load = merged_df['mw'].min()\n",
        "max_load = merged_df['mw'].max()\n",
        "\n",
        "print(f\"Minimum value in 'total_lmp_da': {min_da}\")\n",
        "print(f\"Maximum value in 'total_lmp_da': {max_da}\")\n",
        "print(f\"Minimum value in 'total_lmp_rt': {min_rt}\")\n",
        "print(f\"Maximum value in 'total_lmp_rt': {max_rt}\")\n",
        "print(f\"Minimum value in 'mw': {min_load}\")\n",
        "print(f\"Maximum value in 'mw': {max_load}\")"
      ]
    },
    {
      "cell_type": "markdown",
      "id": "ba51e68f",
      "metadata": {
        "id": "ba51e68f"
      },
      "source": [
        "### Problem 1.3 (5 points)\n",
        "\n",
        "For each of the 24 hours (we define `00:00:00` as hour 0, `01:00:00` as hour 1, etc.), calculate the mean and the standard deviation of the day-ahead price, and the mean and the standard deviation of the real-time price."
      ]
    },
    {
      "cell_type": "code",
      "execution_count": 5,
      "id": "823c1b2a",
      "metadata": {
        "colab": {
          "base_uri": "https://localhost:8080/"
        },
        "id": "823c1b2a",
        "outputId": "082fa96c-4305-4087-ca62-40aae1994497"
      },
      "outputs": [
        {
          "output_type": "stream",
          "name": "stdout",
          "text": [
            "    hour  mean_day_ahead_price  std_day_ahead_price  mean_real_time_price  \\\n",
            "0      0             23.305236             6.713902             22.028935   \n",
            "1      1             22.298027             6.803560             21.775739   \n",
            "2      2             20.761113             6.890448             19.773628   \n",
            "3      3             20.286881             7.198500             19.394475   \n",
            "4      4             21.237555             7.937617             19.878974   \n",
            "5      5             24.329404             9.279820             22.426683   \n",
            "6      6             31.751753            15.602354             30.488548   \n",
            "7      7             34.690628            19.325669             34.204770   \n",
            "8      8             30.712538            10.653954             28.745836   \n",
            "9      9             29.770066             7.493468             27.029003   \n",
            "10    10             30.446515             7.700965             28.369284   \n",
            "11    11             30.942795             7.509057             29.989798   \n",
            "12    12             31.864334             8.692781             30.994447   \n",
            "13    13             32.925009            11.775318             31.731967   \n",
            "14    14             34.118625            16.262678             31.137052   \n",
            "15    15             36.519381            21.136395             33.193480   \n",
            "16    16             41.755316            26.195104             37.463760   \n",
            "17    17             48.107666            27.983519             46.006507   \n",
            "18    18             46.031922            24.474852             41.741681   \n",
            "19    19             42.453449            17.552545             38.089898   \n",
            "20    20             37.739798            11.985249             34.602181   \n",
            "21    21             33.110879             9.459953             31.042054   \n",
            "22    22             28.924337             8.311814             27.501829   \n",
            "23    23             25.614498             7.569911             24.575444   \n",
            "\n",
            "    std_real_time_price  \n",
            "0              9.040475  \n",
            "1              9.025048  \n",
            "2              7.930365  \n",
            "3              8.146953  \n",
            "4              7.331474  \n",
            "5              9.727063  \n",
            "6             20.416258  \n",
            "7             41.061732  \n",
            "8             13.689858  \n",
            "9             10.254607  \n",
            "10            11.325069  \n",
            "11            12.754377  \n",
            "12            13.529278  \n",
            "13            14.326699  \n",
            "14            13.304334  \n",
            "15            16.142562  \n",
            "16            22.511078  \n",
            "17            36.168713  \n",
            "18            21.982622  \n",
            "19            16.828309  \n",
            "20            12.050950  \n",
            "21            11.532758  \n",
            "22             8.814057  \n",
            "23            11.095155  \n"
          ]
        }
      ],
      "source": [
        "# Your code\n",
        "merged_df['hour'] = merged_df['datetime_beginning_ept'].dt.hour\n",
        "\n",
        "hourly_stats = merged_df.groupby('hour').agg(\n",
        "    mean_day_ahead_price=('total_lmp_da', 'mean'),\n",
        "    std_day_ahead_price=('total_lmp_da', 'std'),\n",
        "    mean_real_time_price=('total_lmp_rt', 'mean'),\n",
        "    std_real_time_price=('total_lmp_rt', 'std')\n",
        ").reset_index()\n",
        "\n",
        "print(hourly_stats)"
      ]
    },
    {
      "cell_type": "markdown",
      "id": "b92f2f13",
      "metadata": {
        "id": "b92f2f13"
      },
      "source": [
        "### Problem 1.4 (10 points)\n",
        "\n",
        "Define spread = day-ahead price - real-time price. For which of the 24 hours do we reject the null hypothesis that the mean of the spread is equal to zero, at a significance level of 5\\%? (Your output should be elements from 0, 1, ..., 23)"
      ]
    },
    {
      "cell_type": "code",
      "execution_count": 6,
      "id": "0a9a05f2",
      "metadata": {
        "colab": {
          "base_uri": "https://localhost:8080/"
        },
        "id": "0a9a05f2",
        "outputId": "dd61a2c6-19df-4896-fcdd-7f6becd63e91"
      },
      "outputs": [
        {
          "output_type": "stream",
          "name": "stdout",
          "text": [
            "[0, 2, 3, 4, 5, 8, 9, 10, 14, 15, 16, 18, 19, 20, 21, 22]\n"
          ]
        }
      ],
      "source": [
        "# Your code\n",
        "from scipy.stats import ttest_1samp\n",
        "\n",
        "merged_df['spread'] = merged_df['total_lmp_da'] - merged_df['total_lmp_rt']\n",
        "\n",
        "alpha = 0.05\n",
        "reject_null_hours = []\n",
        "\n",
        "for hour in range(24):\n",
        "    spread_values = merged_df[merged_df['hour'] == hour]['spread']\n",
        "    t_stat, p_value = ttest_1samp(spread_values, 0)\n",
        "\n",
        "    if p_value < alpha:\n",
        "        reject_null_hours.append(hour)\n",
        "\n",
        "print(reject_null_hours)"
      ]
    },
    {
      "cell_type": "markdown",
      "id": "f82b4e2b",
      "metadata": {
        "id": "f82b4e2b"
      },
      "source": [
        "### Problem 1.5 (10 points)\n",
        "\n",
        "For each of the 12 months, fit a simple linear regression model of the day-ahead price (target) on the load (feature), and another simple linear regression model of the real-time price (target) on the load (feature). You only need to report the $R^2$ of each model, for each month (so there are 24 values in total)."
      ]
    },
    {
      "cell_type": "code",
      "execution_count": 7,
      "id": "7ae543bf",
      "metadata": {
        "colab": {
          "base_uri": "https://localhost:8080/"
        },
        "id": "7ae543bf",
        "outputId": "7e304469-25ee-4e03-895c-0c88a4f8990e"
      },
      "outputs": [
        {
          "output_type": "stream",
          "name": "stdout",
          "text": [
            "    Month  R2_day_ahead  R2_real_time\n",
            "0       1      0.522986      0.079409\n",
            "1       2      0.534674      0.396352\n",
            "2       3      0.545678      0.224522\n",
            "3       4      0.589382      0.330036\n",
            "4       5      0.762845      0.335824\n",
            "5       6      0.828312      0.545923\n",
            "6       7      0.474709      0.537941\n",
            "7       8      0.851502      0.514403\n",
            "8       9      0.689047      0.249598\n",
            "9      10      0.556512      0.266292\n",
            "10     11      0.486096      0.177941\n",
            "11     12      0.639282      0.352849\n"
          ]
        }
      ],
      "source": [
        "# Your code\n",
        "from sklearn.linear_model import LinearRegression\n",
        "from sklearn.metrics import r2_score\n",
        "\n",
        "merged_df['month'] = merged_df['datetime_beginning_ept'].dt.month\n",
        "\n",
        "r2_scores = {'Month': [], 'R2_day_ahead': [], 'R2_real_time': []}\n",
        "\n",
        "for month in range(1, 13):\n",
        "    monthly_data = merged_df[merged_df['month'] == month]\n",
        "\n",
        "    X = monthly_data[['mw']]\n",
        "    y_day_ahead = monthly_data['total_lmp_da']\n",
        "    y_real_time = monthly_data['total_lmp_rt']\n",
        "\n",
        "    # First model\n",
        "    model_day_ahead = LinearRegression()\n",
        "    model_day_ahead.fit(X, y_day_ahead)\n",
        "    r2_day_ahead = model_day_ahead.score(X, y_day_ahead)\n",
        "\n",
        "    # Second model\n",
        "    model_real_time = LinearRegression()\n",
        "    model_real_time.fit(X, y_real_time)\n",
        "    r2_real_time = model_real_time.score(X, y_real_time)\n",
        "\n",
        "    r2_scores['Month'].append(month)\n",
        "    r2_scores['R2_day_ahead'].append(r2_day_ahead)\n",
        "    r2_scores['R2_real_time'].append(r2_real_time)\n",
        "\n",
        "r2_df = pd.DataFrame(r2_scores)\n",
        "print(r2_df)"
      ]
    },
    {
      "cell_type": "markdown",
      "id": "011309d9",
      "metadata": {
        "id": "011309d9"
      },
      "source": [
        "## Problem 2 (20 points)\n",
        "\n",
        "You will fit a decision tree model to solve a classification problem. The data file is `data/p2/fridge.txt`. In each line, there are three numbers: the first number is the power consumption (in Watts), the second number is the duration (in seconds), and the third number is the label (1 for refrigerator 1, and -1 for refrigerator 2). The task is to fit a tree model in which power and duration are the predictors, and label is the response (that is, given a pair of power and duration, is it refrigerator 1 or refrigerator 2?).\n",
        "\n",
        "First, you need to import the data, which is a little tricky since the data file is not nicely formatted (it's not even a `.csv` file). You can use any method to create a matrix-like object with 3 columns containing the data (the format can vary: you don't need to use the scientific format; you can use 2 instead of -1 to label refrigerator 2). Then you randomly sample 300 observations as the test set, and the remaining observations constitute the training set. There is no validation set in this problem. Then you use `sklearn.tree.DecisionTreeClassifier` to fit a tree model to the training set. Finally, calculate the accuracy (which is the only required output) of the generated tree model on the test set.\n",
        "\n",
        "Since the result may not be unique (which depends on the train-test split, settings of the `DecisionTreeClassifier`, etc.), we set a target accuracy of 0.97 (i.e., you get full credits if your accuracy is no less than 0.97)."
      ]
    },
    {
      "cell_type": "code",
      "execution_count": 8,
      "id": "b6d47f2c",
      "metadata": {
        "colab": {
          "base_uri": "https://localhost:8080/"
        },
        "id": "b6d47f2c",
        "outputId": "58e55156-796a-4479-a42f-2d269791bb75"
      },
      "outputs": [
        {
          "output_type": "stream",
          "name": "stdout",
          "text": [
            "0.97\n"
          ]
        }
      ],
      "source": [
        "# Your code\n",
        "from sklearn.model_selection import train_test_split\n",
        "from sklearn.tree import DecisionTreeClassifier\n",
        "from sklearn.metrics import accuracy_score\n",
        "\n",
        "data = pd.read_csv('/content/fridge.txt', delim_whitespace=True, header=None)\n",
        "data.columns = ['power consumption', 'duration', 'label']\n",
        "data['label'] = data['label'].replace(-1, 2)\n",
        "\n",
        "X = data[['power consumption', 'duration']]\n",
        "y = data['label']\n",
        "\n",
        "X_train, X_test, y_train, y_test = train_test_split(X, y, test_size=300, random_state=42)\n",
        "\n",
        "clf = DecisionTreeClassifier(random_state=42)\n",
        "clf.fit(X_train, y_train)\n",
        "\n",
        "y_pred = clf.predict(X_test)\n",
        "accuracy = accuracy_score(y_test, y_pred)\n",
        "\n",
        "print(accuracy)"
      ]
    },
    {
      "cell_type": "markdown",
      "id": "f4d73c90",
      "metadata": {
        "id": "f4d73c90"
      },
      "source": [
        "## Problem 3\n"
      ]
    },
    {
      "cell_type": "markdown",
      "id": "644769b2",
      "metadata": {
        "id": "644769b2"
      },
      "source": [
        "The data file `data/p3/df_nan.csv` contains 5-year load and temperature data of an area in the Eastern Time Zone. For your convenience, both the UTC time (`utc`) and the Eastern Prevailing Time (`ept`) are provided. The load (`kw`) is in kW, and the temperature (`tmpf`) is in degree Fahrenheit.\n",
        "\n",
        "The load data of 28 selected days (2021-04-03, 2021-04-13, ..., 2021-12-29, with 10 days apart), as well as the data of the previous and the following days of each of the selected days, are removed to mimic day-ahead forecasting. You will forecast the hourly load of each of the selected days.\n",
        "\n",
        "For example, the first selected day is 2021-04-03. You need to forecast the hourly load of 2021-04-03. But you don't need to forecast the hourly load of 2021-04-02 or 2021-04-04.\n",
        "\n",
        "### Problem 3.1 (20 points)\n",
        "\n",
        "Develop a forecasting model. Describe your method (predictors, models, python modules, etc.). You get full credits if the description is clear without technical errors (the quality of your model will be evaluated in the next question)."
      ]
    },
    {
      "cell_type": "markdown",
      "id": "6321530b",
      "metadata": {
        "id": "6321530b"
      },
      "source": [
        "\\# Your answer"
      ]
    },
    {
      "cell_type": "markdown",
      "source": [
        "In this problem, I developed a model to forecast the hourly load for the specified days based on 5 years of load and temperature data. I chose the Random Forest model for this task. Random Forest is an ensemble learning method that constructs multiple decision trees and merges them to provide a more accurate and stable prediction, making it suitable for handling complex forecasting problems.\n",
        "\n",
        "**Predictors**  \n",
        "The key predictors (features) I plan to use for this model are as follows:\n",
        "\n",
        "* Temperature (tmpf): Temperature has a direct impact on the load and will be a critical predictor.\n",
        "* Time Information: Load patterns vary based on time, so I will include features like 'month', 'day of the week', and 'hour of the day' to capture these time-based variations.\n",
        "* Previous Load Data: Including previous days' load data will help the model learn the load trends and better predict future values.\n",
        "\n",
        "**Model Description**  \n",
        "The Random Forest model is an ensemble learning algorithm that constructs multiple decision trees during training and outputs the average of their predictions for regression tasks. This approach helps to improve the accuracy and stability of the predictions by reducing the variance that typically affects a single decision tree model. Random Forest is particularly effective for handling large datasets and complex relationships between features, making it suitable for time-series forecasting problems such as predicting hourly load.\n",
        "The Random Forest model works by creating a large number of decision trees, each trained on a random subset of the data with a random selection of features. This randomness ensures that each tree captures different aspects of the data, which helps in reducing overfitting. Once all trees are trained, their predictions are averaged, resulting in a more reliable and robust prediction.\n",
        "\n",
        "\n",
        "**Python Libraries**  \n",
        "I will use the following Python libraries to implement the model:\n",
        "\n",
        "* RandomForestRegressor: For implementing the Random Forest regression model"
      ],
      "metadata": {
        "id": "qg9cy330ViUq"
      },
      "id": "qg9cy330ViUq"
    },
    {
      "cell_type": "markdown",
      "id": "6d4f6167",
      "metadata": {
        "id": "6d4f6167"
      },
      "source": [
        "### Problem 3.2 (20 points)\n",
        "\n",
        "Implement your method. A template `data/p3/template.csv` is provided. You need to complete the `kw` values, and export your forecasts to `UnityID.csv`. A sample submission `data/p3/wtang8.csv` is provided, but you need to use your own Unity ID. The score of this question purely depends on your forecast accuracy, as shown in the last block."
      ]
    },
    {
      "cell_type": "code",
      "execution_count": 9,
      "id": "1b752e2b",
      "metadata": {
        "id": "1b752e2b"
      },
      "outputs": [],
      "source": [
        "# Your code"
      ]
    },
    {
      "cell_type": "code",
      "execution_count": 10,
      "id": "e072ea6f",
      "metadata": {
        "id": "e072ea6f"
      },
      "outputs": [],
      "source": [
        "# This block is for your information, to show how your UnityID.csv will be scored.\n",
        "\n",
        "# Suppose the actual load is 5000 (which will be replaced by the actual values for grading) for each hour.\n",
        "# y = np.array([5000] * 672)\n",
        "\n",
        "# Suppose your forecast is 5400 for each hour, as shown in wtang8.csv.\n",
        "# yhat = pd.read_csv('data/p3/wtang8.csv')['kw']\n",
        "\n",
        "# Then your mape is 0.08, and your score is 12 points, based on the following formula.\n",
        "# max(round(20 - mape(y, yhat) * 100), 0)"
      ]
    },
    {
      "cell_type": "code",
      "source": [
        "from sklearn.ensemble import RandomForestRegressor\n",
        "\n",
        "df = pd.read_csv('/content/df_nan.csv')\n",
        "df['ept'] = pd.to_datetime(df['ept'])\n",
        "df_cleaned = df.drop_duplicates(subset=['ept'], keep='first')\n",
        "df_cleaned = df_cleaned.dropna()\n",
        "\n",
        "df_cleaned['month'] = df_cleaned['ept'].dt.month\n",
        "df_cleaned['day_of_week'] = df_cleaned['ept'].dt.dayofweek\n",
        "df_cleaned['hour'] = df_cleaned['ept'].dt.hour\n",
        "\n",
        "X = df_cleaned[['tmpf', 'month', 'day_of_week', 'hour']]\n",
        "y = df_cleaned['kw']\n",
        "rf_model = RandomForestRegressor(n_estimators=100, random_state=42)\n",
        "rf_model.fit(X, y)"
      ],
      "metadata": {
        "id": "Hgx0I5fMZgh0",
        "colab": {
          "base_uri": "https://localhost:8080/",
          "height": 80
        },
        "outputId": "0a98fff8-ad50-474e-aded-c5c660042611"
      },
      "id": "Hgx0I5fMZgh0",
      "execution_count": 11,
      "outputs": [
        {
          "output_type": "execute_result",
          "data": {
            "text/plain": [
              "RandomForestRegressor(random_state=42)"
            ],
            "text/html": [
              "<style>#sk-container-id-1 {\n",
              "  /* Definition of color scheme common for light and dark mode */\n",
              "  --sklearn-color-text: black;\n",
              "  --sklearn-color-line: gray;\n",
              "  /* Definition of color scheme for unfitted estimators */\n",
              "  --sklearn-color-unfitted-level-0: #fff5e6;\n",
              "  --sklearn-color-unfitted-level-1: #f6e4d2;\n",
              "  --sklearn-color-unfitted-level-2: #ffe0b3;\n",
              "  --sklearn-color-unfitted-level-3: chocolate;\n",
              "  /* Definition of color scheme for fitted estimators */\n",
              "  --sklearn-color-fitted-level-0: #f0f8ff;\n",
              "  --sklearn-color-fitted-level-1: #d4ebff;\n",
              "  --sklearn-color-fitted-level-2: #b3dbfd;\n",
              "  --sklearn-color-fitted-level-3: cornflowerblue;\n",
              "\n",
              "  /* Specific color for light theme */\n",
              "  --sklearn-color-text-on-default-background: var(--sg-text-color, var(--theme-code-foreground, var(--jp-content-font-color1, black)));\n",
              "  --sklearn-color-background: var(--sg-background-color, var(--theme-background, var(--jp-layout-color0, white)));\n",
              "  --sklearn-color-border-box: var(--sg-text-color, var(--theme-code-foreground, var(--jp-content-font-color1, black)));\n",
              "  --sklearn-color-icon: #696969;\n",
              "\n",
              "  @media (prefers-color-scheme: dark) {\n",
              "    /* Redefinition of color scheme for dark theme */\n",
              "    --sklearn-color-text-on-default-background: var(--sg-text-color, var(--theme-code-foreground, var(--jp-content-font-color1, white)));\n",
              "    --sklearn-color-background: var(--sg-background-color, var(--theme-background, var(--jp-layout-color0, #111)));\n",
              "    --sklearn-color-border-box: var(--sg-text-color, var(--theme-code-foreground, var(--jp-content-font-color1, white)));\n",
              "    --sklearn-color-icon: #878787;\n",
              "  }\n",
              "}\n",
              "\n",
              "#sk-container-id-1 {\n",
              "  color: var(--sklearn-color-text);\n",
              "}\n",
              "\n",
              "#sk-container-id-1 pre {\n",
              "  padding: 0;\n",
              "}\n",
              "\n",
              "#sk-container-id-1 input.sk-hidden--visually {\n",
              "  border: 0;\n",
              "  clip: rect(1px 1px 1px 1px);\n",
              "  clip: rect(1px, 1px, 1px, 1px);\n",
              "  height: 1px;\n",
              "  margin: -1px;\n",
              "  overflow: hidden;\n",
              "  padding: 0;\n",
              "  position: absolute;\n",
              "  width: 1px;\n",
              "}\n",
              "\n",
              "#sk-container-id-1 div.sk-dashed-wrapped {\n",
              "  border: 1px dashed var(--sklearn-color-line);\n",
              "  margin: 0 0.4em 0.5em 0.4em;\n",
              "  box-sizing: border-box;\n",
              "  padding-bottom: 0.4em;\n",
              "  background-color: var(--sklearn-color-background);\n",
              "}\n",
              "\n",
              "#sk-container-id-1 div.sk-container {\n",
              "  /* jupyter's `normalize.less` sets `[hidden] { display: none; }`\n",
              "     but bootstrap.min.css set `[hidden] { display: none !important; }`\n",
              "     so we also need the `!important` here to be able to override the\n",
              "     default hidden behavior on the sphinx rendered scikit-learn.org.\n",
              "     See: https://github.com/scikit-learn/scikit-learn/issues/21755 */\n",
              "  display: inline-block !important;\n",
              "  position: relative;\n",
              "}\n",
              "\n",
              "#sk-container-id-1 div.sk-text-repr-fallback {\n",
              "  display: none;\n",
              "}\n",
              "\n",
              "div.sk-parallel-item,\n",
              "div.sk-serial,\n",
              "div.sk-item {\n",
              "  /* draw centered vertical line to link estimators */\n",
              "  background-image: linear-gradient(var(--sklearn-color-text-on-default-background), var(--sklearn-color-text-on-default-background));\n",
              "  background-size: 2px 100%;\n",
              "  background-repeat: no-repeat;\n",
              "  background-position: center center;\n",
              "}\n",
              "\n",
              "/* Parallel-specific style estimator block */\n",
              "\n",
              "#sk-container-id-1 div.sk-parallel-item::after {\n",
              "  content: \"\";\n",
              "  width: 100%;\n",
              "  border-bottom: 2px solid var(--sklearn-color-text-on-default-background);\n",
              "  flex-grow: 1;\n",
              "}\n",
              "\n",
              "#sk-container-id-1 div.sk-parallel {\n",
              "  display: flex;\n",
              "  align-items: stretch;\n",
              "  justify-content: center;\n",
              "  background-color: var(--sklearn-color-background);\n",
              "  position: relative;\n",
              "}\n",
              "\n",
              "#sk-container-id-1 div.sk-parallel-item {\n",
              "  display: flex;\n",
              "  flex-direction: column;\n",
              "}\n",
              "\n",
              "#sk-container-id-1 div.sk-parallel-item:first-child::after {\n",
              "  align-self: flex-end;\n",
              "  width: 50%;\n",
              "}\n",
              "\n",
              "#sk-container-id-1 div.sk-parallel-item:last-child::after {\n",
              "  align-self: flex-start;\n",
              "  width: 50%;\n",
              "}\n",
              "\n",
              "#sk-container-id-1 div.sk-parallel-item:only-child::after {\n",
              "  width: 0;\n",
              "}\n",
              "\n",
              "/* Serial-specific style estimator block */\n",
              "\n",
              "#sk-container-id-1 div.sk-serial {\n",
              "  display: flex;\n",
              "  flex-direction: column;\n",
              "  align-items: center;\n",
              "  background-color: var(--sklearn-color-background);\n",
              "  padding-right: 1em;\n",
              "  padding-left: 1em;\n",
              "}\n",
              "\n",
              "\n",
              "/* Toggleable style: style used for estimator/Pipeline/ColumnTransformer box that is\n",
              "clickable and can be expanded/collapsed.\n",
              "- Pipeline and ColumnTransformer use this feature and define the default style\n",
              "- Estimators will overwrite some part of the style using the `sk-estimator` class\n",
              "*/\n",
              "\n",
              "/* Pipeline and ColumnTransformer style (default) */\n",
              "\n",
              "#sk-container-id-1 div.sk-toggleable {\n",
              "  /* Default theme specific background. It is overwritten whether we have a\n",
              "  specific estimator or a Pipeline/ColumnTransformer */\n",
              "  background-color: var(--sklearn-color-background);\n",
              "}\n",
              "\n",
              "/* Toggleable label */\n",
              "#sk-container-id-1 label.sk-toggleable__label {\n",
              "  cursor: pointer;\n",
              "  display: block;\n",
              "  width: 100%;\n",
              "  margin-bottom: 0;\n",
              "  padding: 0.5em;\n",
              "  box-sizing: border-box;\n",
              "  text-align: center;\n",
              "}\n",
              "\n",
              "#sk-container-id-1 label.sk-toggleable__label-arrow:before {\n",
              "  /* Arrow on the left of the label */\n",
              "  content: \"▸\";\n",
              "  float: left;\n",
              "  margin-right: 0.25em;\n",
              "  color: var(--sklearn-color-icon);\n",
              "}\n",
              "\n",
              "#sk-container-id-1 label.sk-toggleable__label-arrow:hover:before {\n",
              "  color: var(--sklearn-color-text);\n",
              "}\n",
              "\n",
              "/* Toggleable content - dropdown */\n",
              "\n",
              "#sk-container-id-1 div.sk-toggleable__content {\n",
              "  max-height: 0;\n",
              "  max-width: 0;\n",
              "  overflow: hidden;\n",
              "  text-align: left;\n",
              "  /* unfitted */\n",
              "  background-color: var(--sklearn-color-unfitted-level-0);\n",
              "}\n",
              "\n",
              "#sk-container-id-1 div.sk-toggleable__content.fitted {\n",
              "  /* fitted */\n",
              "  background-color: var(--sklearn-color-fitted-level-0);\n",
              "}\n",
              "\n",
              "#sk-container-id-1 div.sk-toggleable__content pre {\n",
              "  margin: 0.2em;\n",
              "  border-radius: 0.25em;\n",
              "  color: var(--sklearn-color-text);\n",
              "  /* unfitted */\n",
              "  background-color: var(--sklearn-color-unfitted-level-0);\n",
              "}\n",
              "\n",
              "#sk-container-id-1 div.sk-toggleable__content.fitted pre {\n",
              "  /* unfitted */\n",
              "  background-color: var(--sklearn-color-fitted-level-0);\n",
              "}\n",
              "\n",
              "#sk-container-id-1 input.sk-toggleable__control:checked~div.sk-toggleable__content {\n",
              "  /* Expand drop-down */\n",
              "  max-height: 200px;\n",
              "  max-width: 100%;\n",
              "  overflow: auto;\n",
              "}\n",
              "\n",
              "#sk-container-id-1 input.sk-toggleable__control:checked~label.sk-toggleable__label-arrow:before {\n",
              "  content: \"▾\";\n",
              "}\n",
              "\n",
              "/* Pipeline/ColumnTransformer-specific style */\n",
              "\n",
              "#sk-container-id-1 div.sk-label input.sk-toggleable__control:checked~label.sk-toggleable__label {\n",
              "  color: var(--sklearn-color-text);\n",
              "  background-color: var(--sklearn-color-unfitted-level-2);\n",
              "}\n",
              "\n",
              "#sk-container-id-1 div.sk-label.fitted input.sk-toggleable__control:checked~label.sk-toggleable__label {\n",
              "  background-color: var(--sklearn-color-fitted-level-2);\n",
              "}\n",
              "\n",
              "/* Estimator-specific style */\n",
              "\n",
              "/* Colorize estimator box */\n",
              "#sk-container-id-1 div.sk-estimator input.sk-toggleable__control:checked~label.sk-toggleable__label {\n",
              "  /* unfitted */\n",
              "  background-color: var(--sklearn-color-unfitted-level-2);\n",
              "}\n",
              "\n",
              "#sk-container-id-1 div.sk-estimator.fitted input.sk-toggleable__control:checked~label.sk-toggleable__label {\n",
              "  /* fitted */\n",
              "  background-color: var(--sklearn-color-fitted-level-2);\n",
              "}\n",
              "\n",
              "#sk-container-id-1 div.sk-label label.sk-toggleable__label,\n",
              "#sk-container-id-1 div.sk-label label {\n",
              "  /* The background is the default theme color */\n",
              "  color: var(--sklearn-color-text-on-default-background);\n",
              "}\n",
              "\n",
              "/* On hover, darken the color of the background */\n",
              "#sk-container-id-1 div.sk-label:hover label.sk-toggleable__label {\n",
              "  color: var(--sklearn-color-text);\n",
              "  background-color: var(--sklearn-color-unfitted-level-2);\n",
              "}\n",
              "\n",
              "/* Label box, darken color on hover, fitted */\n",
              "#sk-container-id-1 div.sk-label.fitted:hover label.sk-toggleable__label.fitted {\n",
              "  color: var(--sklearn-color-text);\n",
              "  background-color: var(--sklearn-color-fitted-level-2);\n",
              "}\n",
              "\n",
              "/* Estimator label */\n",
              "\n",
              "#sk-container-id-1 div.sk-label label {\n",
              "  font-family: monospace;\n",
              "  font-weight: bold;\n",
              "  display: inline-block;\n",
              "  line-height: 1.2em;\n",
              "}\n",
              "\n",
              "#sk-container-id-1 div.sk-label-container {\n",
              "  text-align: center;\n",
              "}\n",
              "\n",
              "/* Estimator-specific */\n",
              "#sk-container-id-1 div.sk-estimator {\n",
              "  font-family: monospace;\n",
              "  border: 1px dotted var(--sklearn-color-border-box);\n",
              "  border-radius: 0.25em;\n",
              "  box-sizing: border-box;\n",
              "  margin-bottom: 0.5em;\n",
              "  /* unfitted */\n",
              "  background-color: var(--sklearn-color-unfitted-level-0);\n",
              "}\n",
              "\n",
              "#sk-container-id-1 div.sk-estimator.fitted {\n",
              "  /* fitted */\n",
              "  background-color: var(--sklearn-color-fitted-level-0);\n",
              "}\n",
              "\n",
              "/* on hover */\n",
              "#sk-container-id-1 div.sk-estimator:hover {\n",
              "  /* unfitted */\n",
              "  background-color: var(--sklearn-color-unfitted-level-2);\n",
              "}\n",
              "\n",
              "#sk-container-id-1 div.sk-estimator.fitted:hover {\n",
              "  /* fitted */\n",
              "  background-color: var(--sklearn-color-fitted-level-2);\n",
              "}\n",
              "\n",
              "/* Specification for estimator info (e.g. \"i\" and \"?\") */\n",
              "\n",
              "/* Common style for \"i\" and \"?\" */\n",
              "\n",
              ".sk-estimator-doc-link,\n",
              "a:link.sk-estimator-doc-link,\n",
              "a:visited.sk-estimator-doc-link {\n",
              "  float: right;\n",
              "  font-size: smaller;\n",
              "  line-height: 1em;\n",
              "  font-family: monospace;\n",
              "  background-color: var(--sklearn-color-background);\n",
              "  border-radius: 1em;\n",
              "  height: 1em;\n",
              "  width: 1em;\n",
              "  text-decoration: none !important;\n",
              "  margin-left: 1ex;\n",
              "  /* unfitted */\n",
              "  border: var(--sklearn-color-unfitted-level-1) 1pt solid;\n",
              "  color: var(--sklearn-color-unfitted-level-1);\n",
              "}\n",
              "\n",
              ".sk-estimator-doc-link.fitted,\n",
              "a:link.sk-estimator-doc-link.fitted,\n",
              "a:visited.sk-estimator-doc-link.fitted {\n",
              "  /* fitted */\n",
              "  border: var(--sklearn-color-fitted-level-1) 1pt solid;\n",
              "  color: var(--sklearn-color-fitted-level-1);\n",
              "}\n",
              "\n",
              "/* On hover */\n",
              "div.sk-estimator:hover .sk-estimator-doc-link:hover,\n",
              ".sk-estimator-doc-link:hover,\n",
              "div.sk-label-container:hover .sk-estimator-doc-link:hover,\n",
              ".sk-estimator-doc-link:hover {\n",
              "  /* unfitted */\n",
              "  background-color: var(--sklearn-color-unfitted-level-3);\n",
              "  color: var(--sklearn-color-background);\n",
              "  text-decoration: none;\n",
              "}\n",
              "\n",
              "div.sk-estimator.fitted:hover .sk-estimator-doc-link.fitted:hover,\n",
              ".sk-estimator-doc-link.fitted:hover,\n",
              "div.sk-label-container:hover .sk-estimator-doc-link.fitted:hover,\n",
              ".sk-estimator-doc-link.fitted:hover {\n",
              "  /* fitted */\n",
              "  background-color: var(--sklearn-color-fitted-level-3);\n",
              "  color: var(--sklearn-color-background);\n",
              "  text-decoration: none;\n",
              "}\n",
              "\n",
              "/* Span, style for the box shown on hovering the info icon */\n",
              ".sk-estimator-doc-link span {\n",
              "  display: none;\n",
              "  z-index: 9999;\n",
              "  position: relative;\n",
              "  font-weight: normal;\n",
              "  right: .2ex;\n",
              "  padding: .5ex;\n",
              "  margin: .5ex;\n",
              "  width: min-content;\n",
              "  min-width: 20ex;\n",
              "  max-width: 50ex;\n",
              "  color: var(--sklearn-color-text);\n",
              "  box-shadow: 2pt 2pt 4pt #999;\n",
              "  /* unfitted */\n",
              "  background: var(--sklearn-color-unfitted-level-0);\n",
              "  border: .5pt solid var(--sklearn-color-unfitted-level-3);\n",
              "}\n",
              "\n",
              ".sk-estimator-doc-link.fitted span {\n",
              "  /* fitted */\n",
              "  background: var(--sklearn-color-fitted-level-0);\n",
              "  border: var(--sklearn-color-fitted-level-3);\n",
              "}\n",
              "\n",
              ".sk-estimator-doc-link:hover span {\n",
              "  display: block;\n",
              "}\n",
              "\n",
              "/* \"?\"-specific style due to the `<a>` HTML tag */\n",
              "\n",
              "#sk-container-id-1 a.estimator_doc_link {\n",
              "  float: right;\n",
              "  font-size: 1rem;\n",
              "  line-height: 1em;\n",
              "  font-family: monospace;\n",
              "  background-color: var(--sklearn-color-background);\n",
              "  border-radius: 1rem;\n",
              "  height: 1rem;\n",
              "  width: 1rem;\n",
              "  text-decoration: none;\n",
              "  /* unfitted */\n",
              "  color: var(--sklearn-color-unfitted-level-1);\n",
              "  border: var(--sklearn-color-unfitted-level-1) 1pt solid;\n",
              "}\n",
              "\n",
              "#sk-container-id-1 a.estimator_doc_link.fitted {\n",
              "  /* fitted */\n",
              "  border: var(--sklearn-color-fitted-level-1) 1pt solid;\n",
              "  color: var(--sklearn-color-fitted-level-1);\n",
              "}\n",
              "\n",
              "/* On hover */\n",
              "#sk-container-id-1 a.estimator_doc_link:hover {\n",
              "  /* unfitted */\n",
              "  background-color: var(--sklearn-color-unfitted-level-3);\n",
              "  color: var(--sklearn-color-background);\n",
              "  text-decoration: none;\n",
              "}\n",
              "\n",
              "#sk-container-id-1 a.estimator_doc_link.fitted:hover {\n",
              "  /* fitted */\n",
              "  background-color: var(--sklearn-color-fitted-level-3);\n",
              "}\n",
              "</style><div id=\"sk-container-id-1\" class=\"sk-top-container\"><div class=\"sk-text-repr-fallback\"><pre>RandomForestRegressor(random_state=42)</pre><b>In a Jupyter environment, please rerun this cell to show the HTML representation or trust the notebook. <br />On GitHub, the HTML representation is unable to render, please try loading this page with nbviewer.org.</b></div><div class=\"sk-container\" hidden><div class=\"sk-item\"><div class=\"sk-estimator fitted sk-toggleable\"><input class=\"sk-toggleable__control sk-hidden--visually\" id=\"sk-estimator-id-1\" type=\"checkbox\" checked><label for=\"sk-estimator-id-1\" class=\"sk-toggleable__label fitted sk-toggleable__label-arrow fitted\">&nbsp;&nbsp;RandomForestRegressor<a class=\"sk-estimator-doc-link fitted\" rel=\"noreferrer\" target=\"_blank\" href=\"https://scikit-learn.org/1.5/modules/generated/sklearn.ensemble.RandomForestRegressor.html\">?<span>Documentation for RandomForestRegressor</span></a><span class=\"sk-estimator-doc-link fitted\">i<span>Fitted</span></span></label><div class=\"sk-toggleable__content fitted\"><pre>RandomForestRegressor(random_state=42)</pre></div> </div></div></div></div>"
            ]
          },
          "metadata": {},
          "execution_count": 11
        }
      ]
    },
    {
      "cell_type": "code",
      "source": [
        "template = pd.read_csv('/content/template.csv')\n",
        "\n",
        "template['month'] = pd.to_datetime(template['ept']).dt.month\n",
        "template['day_of_week'] = pd.to_datetime(template['ept']).dt.dayofweek\n",
        "template['hour'] = pd.to_datetime(template['ept']).dt.hour\n",
        "\n",
        "template_X = template[['tmpf', 'month', 'day_of_week', 'hour']]\n",
        "\n",
        "template['kw'] = rf_model.predict(template_X)"
      ],
      "metadata": {
        "id": "L3pgPOCoKKQG"
      },
      "id": "L3pgPOCoKKQG",
      "execution_count": 12,
      "outputs": []
    },
    {
      "cell_type": "code",
      "source": [
        "template = template.drop(columns=['month', 'day_of_week', 'hour'])\n",
        "\n",
        "template.to_csv('/content/slee93.csv', index=False)"
      ],
      "metadata": {
        "id": "tN80IGWbKxLJ"
      },
      "id": "tN80IGWbKxLJ",
      "execution_count": 13,
      "outputs": []
    }
  ],
  "metadata": {
    "kernelspec": {
      "display_name": "Python 3 (ipykernel)",
      "language": "python",
      "name": "python3"
    },
    "language_info": {
      "codemirror_mode": {
        "name": "ipython",
        "version": 3
      },
      "file_extension": ".py",
      "mimetype": "text/x-python",
      "name": "python",
      "nbconvert_exporter": "python",
      "pygments_lexer": "ipython3",
      "version": "3.12.4"
    },
    "colab": {
      "provenance": []
    }
  },
  "nbformat": 4,
  "nbformat_minor": 5
}