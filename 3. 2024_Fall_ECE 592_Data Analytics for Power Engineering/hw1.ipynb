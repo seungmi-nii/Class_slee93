{
  "cells": [
    {
      "cell_type": "markdown",
      "id": "804b6aae",
      "metadata": {
        "id": "804b6aae"
      },
      "source": [
        "# Homework 1\n",
        "\n",
        "You need to edit this `.ipynb` file by replacing \"# Your code\", \"# Your answer\", etc., click \"Restart & Run All\" in Jupyter Notebook to generate your results, and download it as an `.html` file. Please submit your `.ipynb` and `.html` files (instead of a `.zip` file) on Moodle. If you have questions regarding the homework, please email the TA Saumil Shah (sashah8@ncsu.edu), or attend our office hours.\n",
        "\n",
        "Let's first import the data:"
      ]
    },
    {
      "cell_type": "code",
      "execution_count": 1,
      "id": "e46e099a",
      "metadata": {
        "id": "e46e099a",
        "outputId": "c04b4566-37fe-4675-b3b1-8f8652ba804d"
      },
      "outputs": [
        {
          "data": {
            "text/html": [
              "<div>\n",
              "<style scoped>\n",
              "    .dataframe tbody tr th:only-of-type {\n",
              "        vertical-align: middle;\n",
              "    }\n",
              "\n",
              "    .dataframe tbody tr th {\n",
              "        vertical-align: top;\n",
              "    }\n",
              "\n",
              "    .dataframe thead th {\n",
              "        text-align: right;\n",
              "    }\n",
              "</style>\n",
              "<table border=\"1\" class=\"dataframe\">\n",
              "  <thead>\n",
              "    <tr style=\"text-align: right;\">\n",
              "      <th></th>\n",
              "      <th>Date</th>\n",
              "      <th>Price</th>\n",
              "      <th>Zone</th>\n",
              "    </tr>\n",
              "  </thead>\n",
              "  <tbody>\n",
              "    <tr>\n",
              "      <th>0</th>\n",
              "      <td>2019-01-01 00:00:00</td>\n",
              "      <td>14.9375</td>\n",
              "      <td>LZ_SOUTH</td>\n",
              "    </tr>\n",
              "    <tr>\n",
              "      <th>1</th>\n",
              "      <td>2019-01-01 00:00:00</td>\n",
              "      <td>15.5050</td>\n",
              "      <td>LZ_LCRA</td>\n",
              "    </tr>\n",
              "    <tr>\n",
              "      <th>2</th>\n",
              "      <td>2019-01-01 00:00:00</td>\n",
              "      <td>14.8900</td>\n",
              "      <td>LZ_AEN</td>\n",
              "    </tr>\n",
              "    <tr>\n",
              "      <th>3</th>\n",
              "      <td>2019-01-01 00:00:00</td>\n",
              "      <td>13.4500</td>\n",
              "      <td>LZ_RAYBN</td>\n",
              "    </tr>\n",
              "    <tr>\n",
              "      <th>4</th>\n",
              "      <td>2019-01-01 00:00:00</td>\n",
              "      <td>12.5700</td>\n",
              "      <td>LZ_WEST</td>\n",
              "    </tr>\n",
              "    <tr>\n",
              "      <th>...</th>\n",
              "      <td>...</td>\n",
              "      <td>...</td>\n",
              "      <td>...</td>\n",
              "    </tr>\n",
              "    <tr>\n",
              "      <th>70067</th>\n",
              "      <td>2019-12-31 23:00:00</td>\n",
              "      <td>12.3925</td>\n",
              "      <td>LZ_SOUTH</td>\n",
              "    </tr>\n",
              "    <tr>\n",
              "      <th>70068</th>\n",
              "      <td>2019-12-31 23:00:00</td>\n",
              "      <td>12.3775</td>\n",
              "      <td>LZ_WEST</td>\n",
              "    </tr>\n",
              "    <tr>\n",
              "      <th>70069</th>\n",
              "      <td>2019-12-31 23:00:00</td>\n",
              "      <td>12.3925</td>\n",
              "      <td>LZ_LCRA</td>\n",
              "    </tr>\n",
              "    <tr>\n",
              "      <th>70070</th>\n",
              "      <td>2019-12-31 23:00:00</td>\n",
              "      <td>12.3925</td>\n",
              "      <td>LZ_CPS</td>\n",
              "    </tr>\n",
              "    <tr>\n",
              "      <th>70071</th>\n",
              "      <td>2019-12-31 23:00:00</td>\n",
              "      <td>12.3925</td>\n",
              "      <td>LZ_AEN</td>\n",
              "    </tr>\n",
              "  </tbody>\n",
              "</table>\n",
              "<p>70072 rows × 3 columns</p>\n",
              "</div>"
            ],
            "text/plain": [
              "                     Date    Price      Zone\n",
              "0     2019-01-01 00:00:00  14.9375  LZ_SOUTH\n",
              "1     2019-01-01 00:00:00  15.5050   LZ_LCRA\n",
              "2     2019-01-01 00:00:00  14.8900    LZ_AEN\n",
              "3     2019-01-01 00:00:00  13.4500  LZ_RAYBN\n",
              "4     2019-01-01 00:00:00  12.5700   LZ_WEST\n",
              "...                   ...      ...       ...\n",
              "70067 2019-12-31 23:00:00  12.3925  LZ_SOUTH\n",
              "70068 2019-12-31 23:00:00  12.3775   LZ_WEST\n",
              "70069 2019-12-31 23:00:00  12.3925   LZ_LCRA\n",
              "70070 2019-12-31 23:00:00  12.3925    LZ_CPS\n",
              "70071 2019-12-31 23:00:00  12.3925    LZ_AEN\n",
              "\n",
              "[70072 rows x 3 columns]"
            ]
          },
          "execution_count": 1,
          "metadata": {},
          "output_type": "execute_result"
        }
      ],
      "source": [
        "import numpy as np\n",
        "import pandas as pd\n",
        "from scipy import stats\n",
        "ercot = pd.read_csv('C:/Users/leemi/Desktop/LSM/1. PhD Research/1. Class/2024 Fall/ECE 592 (074)_Power System/20190101-20191231 ERCOT Real-time Price.csv')\n",
        "ercot['Date'] = pd.to_datetime(ercot['Date'], format=\"%m/%d/%Y %I:%M:%S %p\")\n",
        "ercot"
      ]
    },
    {
      "cell_type": "markdown",
      "id": "452cb3f4",
      "metadata": {
        "id": "452cb3f4"
      },
      "source": [
        "The following problems are independent (unless stated otherwise), meaning that all the manipulations are based on `ercot`.\n",
        "\n",
        "### Problem 1\n",
        "\n",
        "Consider a particular zone, say `LZ_HOUSTON`. Count the observations. Why is it less than 8760?"
      ]
    },
    {
      "cell_type": "code",
      "execution_count": 9,
      "id": "a2f1d903",
      "metadata": {
        "id": "a2f1d903"
      },
      "outputs": [
        {
          "data": {
            "text/plain": [
              "8759"
            ]
          },
          "execution_count": 9,
          "metadata": {},
          "output_type": "execute_result"
        }
      ],
      "source": [
        "# Your code\n",
        "houston_count = ercot['Zone'].value_counts().get('LZ_HOUSTON', 0)\n",
        "houston_count"
      ]
    },
    {
      "cell_type": "code",
      "execution_count": 11,
      "id": "64264298",
      "metadata": {},
      "outputs": [
        {
          "name": "stderr",
          "output_type": "stream",
          "text": [
            "C:\\Users\\leemi\\AppData\\Local\\Temp\\ipykernel_39212\\4059886421.py:2: FutureWarning: 'H' is deprecated and will be removed in a future version, please use 'h' instead.\n",
            "  full_range = pd.date_range(start='2019-01-01 00:00:00', end='2019-12-31 23:00:00', freq='H')\n"
          ]
        },
        {
          "data": {
            "text/plain": [
              "DatetimeIndex(['2019-03-10 02:00:00'], dtype='datetime64[ns]', freq='h')"
            ]
          },
          "execution_count": 11,
          "metadata": {},
          "output_type": "execute_result"
        }
      ],
      "source": [
        "houston_data = ercot[ercot['Zone'] == 'LZ_HOUSTON']\n",
        "full_range = pd.date_range(start='2019-01-01 00:00:00', end='2019-12-31 23:00:00', freq='H')\n",
        "missing_times = full_range.difference(houston_data['Date'])\n",
        "missing_times "
      ]
    },
    {
      "cell_type": "code",
      "execution_count": null,
      "id": "878dbfbc",
      "metadata": {
        "id": "878dbfbc"
      },
      "outputs": [],
      "source": [
        "# Your answer (why is it less than 8760?)\n",
        "# The data for March 10, 2019, at 02:00 AM is missing."
      ]
    },
    {
      "cell_type": "markdown",
      "id": "605a07ae",
      "metadata": {
        "id": "605a07ae"
      },
      "source": [
        "### Problem 2\n",
        "\n",
        "Consider the variable `Price`. What is the proportion (a number between $0$ and $1$) of negative prices?"
      ]
    },
    {
      "cell_type": "code",
      "execution_count": 13,
      "id": "af49f754",
      "metadata": {
        "id": "af49f754"
      },
      "outputs": [
        {
          "data": {
            "text/plain": [
              "0.00826292955816874"
            ]
          },
          "execution_count": 13,
          "metadata": {},
          "output_type": "execute_result"
        }
      ],
      "source": [
        "# Your code\n",
        "negative_count = (ercot['Price'] < 0).sum()\n",
        "total_count = len(ercot)\n",
        "negative_price_proportion = negative_count / total_count\n",
        "negative_price_proportion"
      ]
    },
    {
      "cell_type": "markdown",
      "id": "d1df6ee0",
      "metadata": {
        "id": "d1df6ee0"
      },
      "source": [
        "### Problem 3\n",
        "\n",
        "Print the row(s) with the highest `Price` and the row(s) with lowest `Price`."
      ]
    },
    {
      "cell_type": "code",
      "execution_count": 14,
      "id": "b8f4d332",
      "metadata": {
        "id": "b8f4d332"
      },
      "outputs": [
        {
          "data": {
            "text/html": [
              "<div>\n",
              "<style scoped>\n",
              "    .dataframe tbody tr th:only-of-type {\n",
              "        vertical-align: middle;\n",
              "    }\n",
              "\n",
              "    .dataframe tbody tr th {\n",
              "        vertical-align: top;\n",
              "    }\n",
              "\n",
              "    .dataframe thead th {\n",
              "        text-align: right;\n",
              "    }\n",
              "</style>\n",
              "<table border=\"1\" class=\"dataframe\">\n",
              "  <thead>\n",
              "    <tr style=\"text-align: right;\">\n",
              "      <th></th>\n",
              "      <th>Date</th>\n",
              "      <th>Price</th>\n",
              "      <th>Zone</th>\n",
              "    </tr>\n",
              "  </thead>\n",
              "  <tbody>\n",
              "    <tr>\n",
              "      <th>43512</th>\n",
              "      <td>2019-08-15 16:00:00</td>\n",
              "      <td>9000.0</td>\n",
              "      <td>LZ_AEN</td>\n",
              "    </tr>\n",
              "    <tr>\n",
              "      <th>43513</th>\n",
              "      <td>2019-08-15 16:00:00</td>\n",
              "      <td>9000.0</td>\n",
              "      <td>LZ_CPS</td>\n",
              "    </tr>\n",
              "    <tr>\n",
              "      <th>43514</th>\n",
              "      <td>2019-08-15 16:00:00</td>\n",
              "      <td>9000.0</td>\n",
              "      <td>LZ_LCRA</td>\n",
              "    </tr>\n",
              "    <tr>\n",
              "      <th>43515</th>\n",
              "      <td>2019-08-15 16:00:00</td>\n",
              "      <td>9000.0</td>\n",
              "      <td>LZ_NORTH</td>\n",
              "    </tr>\n",
              "    <tr>\n",
              "      <th>43516</th>\n",
              "      <td>2019-08-15 16:00:00</td>\n",
              "      <td>9000.0</td>\n",
              "      <td>LZ_RAYBN</td>\n",
              "    </tr>\n",
              "    <tr>\n",
              "      <th>43517</th>\n",
              "      <td>2019-08-15 16:00:00</td>\n",
              "      <td>9000.0</td>\n",
              "      <td>LZ_HOUSTON</td>\n",
              "    </tr>\n",
              "    <tr>\n",
              "      <th>43518</th>\n",
              "      <td>2019-08-15 16:00:00</td>\n",
              "      <td>9000.0</td>\n",
              "      <td>LZ_WEST</td>\n",
              "    </tr>\n",
              "    <tr>\n",
              "      <th>43519</th>\n",
              "      <td>2019-08-15 16:00:00</td>\n",
              "      <td>9000.0</td>\n",
              "      <td>LZ_SOUTH</td>\n",
              "    </tr>\n",
              "  </tbody>\n",
              "</table>\n",
              "</div>"
            ],
            "text/plain": [
              "                     Date   Price        Zone\n",
              "43512 2019-08-15 16:00:00  9000.0      LZ_AEN\n",
              "43513 2019-08-15 16:00:00  9000.0      LZ_CPS\n",
              "43514 2019-08-15 16:00:00  9000.0     LZ_LCRA\n",
              "43515 2019-08-15 16:00:00  9000.0    LZ_NORTH\n",
              "43516 2019-08-15 16:00:00  9000.0    LZ_RAYBN\n",
              "43517 2019-08-15 16:00:00  9000.0  LZ_HOUSTON\n",
              "43518 2019-08-15 16:00:00  9000.0     LZ_WEST\n",
              "43519 2019-08-15 16:00:00  9000.0    LZ_SOUTH"
            ]
          },
          "execution_count": 14,
          "metadata": {},
          "output_type": "execute_result"
        }
      ],
      "source": [
        "# Your code (highest)\n",
        "max_price_rows = ercot[ercot['Price'] == ercot['Price'].max()]\n",
        "max_price_rows"
      ]
    },
    {
      "cell_type": "code",
      "execution_count": 15,
      "id": "df5fc828",
      "metadata": {
        "id": "df5fc828"
      },
      "outputs": [
        {
          "data": {
            "text/html": [
              "<div>\n",
              "<style scoped>\n",
              "    .dataframe tbody tr th:only-of-type {\n",
              "        vertical-align: middle;\n",
              "    }\n",
              "\n",
              "    .dataframe tbody tr th {\n",
              "        vertical-align: top;\n",
              "    }\n",
              "\n",
              "    .dataframe thead th {\n",
              "        text-align: right;\n",
              "    }\n",
              "</style>\n",
              "<table border=\"1\" class=\"dataframe\">\n",
              "  <thead>\n",
              "    <tr style=\"text-align: right;\">\n",
              "      <th></th>\n",
              "      <th>Date</th>\n",
              "      <th>Price</th>\n",
              "      <th>Zone</th>\n",
              "    </tr>\n",
              "  </thead>\n",
              "  <tbody>\n",
              "    <tr>\n",
              "      <th>56650</th>\n",
              "      <td>2019-10-23 02:00:00</td>\n",
              "      <td>-22.23</td>\n",
              "      <td>LZ_WEST</td>\n",
              "    </tr>\n",
              "  </tbody>\n",
              "</table>\n",
              "</div>"
            ],
            "text/plain": [
              "                     Date  Price     Zone\n",
              "56650 2019-10-23 02:00:00 -22.23  LZ_WEST"
            ]
          },
          "execution_count": 15,
          "metadata": {},
          "output_type": "execute_result"
        }
      ],
      "source": [
        "# Your code (lowest)\n",
        "min_price_rows = ercot[ercot['Price'] == ercot['Price'].min()]\n",
        "min_price_rows"
      ]
    },
    {
      "cell_type": "markdown",
      "id": "537ff12a",
      "metadata": {
        "id": "537ff12a"
      },
      "source": [
        "### Problem 4\n",
        "\n",
        "Test the hypothesis that the mean of `Price` for zone `LZ_HOUSTON` is $30$ at the significance level $5\\%$."
      ]
    },
    {
      "cell_type": "code",
      "execution_count": 2,
      "id": "eae5d252",
      "metadata": {
        "id": "eae5d252"
      },
      "outputs": [
        {
          "data": {
            "text/plain": [
              "(2.7773995927517725, 0.0054912309477494195, True)"
            ]
          },
          "execution_count": 2,
          "metadata": {},
          "output_type": "execute_result"
        }
      ],
      "source": [
        "# Your code\n",
        "\n",
        "houston_prices = ercot[ercot['Zone'] == 'LZ_HOUSTON']['Price']\n",
        "null_mean = 30\n",
        "t_statistic, p_value = stats.ttest_1samp(houston_prices, null_mean)\n",
        "significance_level = 0.05\n",
        "reject_null = p_value < significance_level\n",
        "\n",
        "t_statistic, p_value, reject_null"
      ]
    },
    {
      "cell_type": "code",
      "execution_count": null,
      "id": "07869997",
      "metadata": {
        "id": "07869997"
      },
      "outputs": [],
      "source": [
        "# Your answer (do we reject the null hypothesis?)\n",
        "# Yes, we reject the null hypothesis because the p-value (0.0055) is less than the significance level of 0.05."
      ]
    },
    {
      "cell_type": "markdown",
      "id": "a390d63e",
      "metadata": {
        "id": "a390d63e"
      },
      "source": [
        "### Problem 5\n",
        "\n",
        "We have obtained the $t$-statistic in Problem 4. We can also compute the degrees of freedom from Problem 1. Use `stats.t.cdf` to verify the $p$-value obtained in Problem 4."
      ]
    },
    {
      "cell_type": "code",
      "execution_count": 3,
      "id": "e618b967",
      "metadata": {
        "id": "e618b967"
      },
      "outputs": [
        {
          "data": {
            "text/plain": [
              "0.0054912309477492816"
            ]
          },
          "execution_count": 3,
          "metadata": {},
          "output_type": "execute_result"
        }
      ],
      "source": [
        "# Your code\n",
        "n = len(houston_prices)\n",
        "degrees_of_freedom = n - 1\n",
        "\n",
        "p_value_one_sided = 1 - stats.t.cdf(t_statistic, df=degrees_of_freedom)\n",
        "p_value_two_sided = p_value_one_sided * 2\n",
        "\n",
        "p_value_two_sided"
      ]
    }
  ],
  "metadata": {
    "colab": {
      "provenance": []
    },
    "kernelspec": {
      "display_name": "Python 3 (ipykernel)",
      "language": "python",
      "name": "python3"
    },
    "language_info": {
      "codemirror_mode": {
        "name": "ipython",
        "version": 3
      },
      "file_extension": ".py",
      "mimetype": "text/x-python",
      "name": "python",
      "nbconvert_exporter": "python",
      "pygments_lexer": "ipython3",
      "version": "3.11.5"
    }
  },
  "nbformat": 4,
  "nbformat_minor": 5
}
