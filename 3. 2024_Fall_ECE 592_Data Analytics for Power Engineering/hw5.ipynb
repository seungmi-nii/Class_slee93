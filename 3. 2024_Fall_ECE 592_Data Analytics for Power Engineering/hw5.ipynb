{
  "cells": [
    {
      "cell_type": "markdown",
      "id": "e63588f3",
      "metadata": {
        "id": "e63588f3"
      },
      "source": [
        "# Homework 5\n",
        "\n",
        "You need to edit this `.ipynb` file by replacing \"# Your code\", \"# Your answer\", etc., click \"Restart & Run All\" in Jupyter Notebook to generate your results, and download it as an `.html` file. Please submit your `.ipynb` and `.html` files (instead of a `.zip` file) on Moodle. If you have questions regarding the homework, please email the TA Saumil Shah (sashah8@ncsu.edu), or attend our office hours.\n",
        "\n",
        "### Problem 1\n",
        "\n",
        "In the lecture, we have applied support vector regression to the load forecasting problem:"
      ]
    },
    {
      "cell_type": "code",
      "execution_count": 1,
      "id": "08bd584e",
      "metadata": {
        "id": "08bd584e",
        "outputId": "44394a7c-468b-44de-ea77-bc5ce48e8147",
        "colab": {
          "base_uri": "https://localhost:8080/"
        }
      },
      "outputs": [
        {
          "output_type": "execute_result",
          "data": {
            "text/plain": [
              "0.030042531883163495"
            ]
          },
          "metadata": {},
          "execution_count": 1
        }
      ],
      "source": [
        "import numpy as np\n",
        "import pandas as pd\n",
        "from sklearn.preprocessing import OneHotEncoder, StandardScaler\n",
        "from sklearn import svm\n",
        "from sklearn.pipeline import make_pipeline\n",
        "from sklearn.compose import TransformedTargetRegressor\n",
        "def mape(a, f):\n",
        "    return np.mean(np.absolute((a - f) / a))\n",
        "df = pd.read_csv('/content/bse_clean.csv', parse_dates=['Date'])\n",
        "df['Day'] = df['Date'].dt.dayofweek\n",
        "train = ((df['Date'].dt.year >= 2004) & (df['Date'].dt.year <= 2006))\n",
        "test = ((df['Date'].dt.year >= 2007) & (df['Date'].dt.year <= 2008))\n",
        "X = np.concatenate((OneHotEncoder(sparse_output=False).fit_transform(df[['Hour', 'Month', 'Day']]), df[['T']]), axis=1)\n",
        "y = df['Load'].to_numpy()\n",
        "model = TransformedTargetRegressor(make_pipeline(StandardScaler(), svm.SVR()), transformer=StandardScaler())\n",
        "model.fit(X[train], y[train])\n",
        "mape(y[test], model.predict(X[test]))"
      ]
    },
    {
      "cell_type": "markdown",
      "id": "0d31c0a0",
      "metadata": {
        "id": "0d31c0a0"
      },
      "source": [
        "To achieve a better accuracy, you need to tune the parameters in `svm.SVR()`. Your objective is simply to beat the performance of the default setting. As long as the following MAPE is smaller than the above MAPE, you're done."
      ]
    },
    {
      "cell_type": "code",
      "execution_count": 2,
      "id": "8380edc5",
      "metadata": {
        "id": "8380edc5",
        "colab": {
          "base_uri": "https://localhost:8080/"
        },
        "outputId": "eaaac18c-3681-48fa-cd88-410dee3160dc"
      },
      "outputs": [
        {
          "output_type": "execute_result",
          "data": {
            "text/plain": [
              "0.02912719042594846"
            ]
          },
          "metadata": {},
          "execution_count": 2
        }
      ],
      "source": [
        "# Your code\n",
        "# Change the following line\n",
        "\n",
        "C = 10\n",
        "model = TransformedTargetRegressor(\n",
        "    regressor=make_pipeline(StandardScaler(), svm.SVR(C=C)),\n",
        "    transformer=StandardScaler()\n",
        ")\n",
        "# Keep the following lines\n",
        "model.fit(X[train], y[train])\n",
        "mape(y[test], model.predict(X[test]))"
      ]
    },
    {
      "cell_type": "markdown",
      "id": "8db2458a",
      "metadata": {
        "id": "8db2458a"
      },
      "source": [
        "### Problem 2\n",
        "\n",
        "In the lecture, we have adopted $k$-means clustering for daily load profiles:"
      ]
    },
    {
      "cell_type": "code",
      "execution_count": 3,
      "id": "4765e3df",
      "metadata": {
        "id": "4765e3df",
        "outputId": "f061085d-5a9e-41dd-dd31-eff1e08a37b1",
        "colab": {
          "base_uri": "https://localhost:8080/"
        }
      },
      "outputs": [
        {
          "output_type": "stream",
          "name": "stdout",
          "text": [
            "[0 0 0 1 1 0 0 0 0 0 1 1 1 0 0 0 0 1 1 0 0 0 0 0 1 1 0 0 0 0 0 0 1 1 0 0 0\n",
            " 0 0 1 1 0 0 0 0 0 1 1 0 0 0 0 0 1 1 0 0 0 0 0 1 1 1 1 0 0 0 0 0 0 1 0 0 0\n",
            " 0 0 1 1 0 0 0 0 0 1 1 0 0 0 0 0 0 1 0 1 0 0 0 0 0 1 1 0 0 0 0 0 1 1 0 0 0\n",
            " 0 0 1 1 0 0 0 0 0 1 1 0 0 0 0 0 0 0 0 1 0 0 0 0 0 1 1 0 0 0 0 0 1 1 0 0 0\n",
            " 0 0 1 1 0 0 0 0 0 0 1 1 0 0 0 0 0 1 1 1 0 0 0 0 1 1 0 0 0 0 0 1 1 0 0 0 0\n",
            " 0]\n"
          ]
        }
      ],
      "source": [
        "from sklearn.cluster import KMeans\n",
        "df = pd.read_csv('/content/bse_clean.csv', parse_dates=['Date'])\n",
        "df = df[df['Month'] == 10].copy()\n",
        "df_wide = df.pivot(index='Date', columns='Hour', values='Load').to_numpy()\n",
        "kmeans = KMeans(2, random_state=0)\n",
        "kmeans.fit(df_wide)\n",
        "print(kmeans.labels_)"
      ]
    },
    {
      "cell_type": "markdown",
      "id": "af3f4bac",
      "metadata": {
        "id": "af3f4bac"
      },
      "source": [
        "In the above results, `0` means predicting weekday and `1` means predicting weekend. Use the calendar information to calculate the accuracy of the prediction:"
      ]
    },
    {
      "cell_type": "code",
      "execution_count": 4,
      "id": "5ec8dcd5",
      "metadata": {
        "id": "5ec8dcd5",
        "colab": {
          "base_uri": "https://localhost:8080/"
        },
        "outputId": "43babf07-3195-40d3-d595-6b11b2423672"
      },
      "outputs": [
        {
          "output_type": "stream",
          "name": "stdout",
          "text": [
            "0.9731182795698925\n"
          ]
        }
      ],
      "source": [
        "# Your code\n",
        "from sklearn.metrics import accuracy_score\n",
        "actual_labels = df['Date'].dt.dayofweek.apply(lambda x: 1 if x >= 5 else 0)\n",
        "daily_labels = actual_labels.groupby(df['Date'].dt.date).first().to_numpy()\n",
        "accuracy = accuracy_score(daily_labels, kmeans.labels_)\n",
        "print(accuracy)"
      ]
    }
  ],
  "metadata": {
    "kernelspec": {
      "display_name": "Python 3 (ipykernel)",
      "language": "python",
      "name": "python3"
    },
    "language_info": {
      "codemirror_mode": {
        "name": "ipython",
        "version": 3
      },
      "file_extension": ".py",
      "mimetype": "text/x-python",
      "name": "python",
      "nbconvert_exporter": "python",
      "pygments_lexer": "ipython3",
      "version": "3.12.4"
    },
    "colab": {
      "provenance": []
    }
  },
  "nbformat": 4,
  "nbformat_minor": 5
}